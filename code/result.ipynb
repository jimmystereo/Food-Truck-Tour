{
 "cells": [
  {
   "cell_type": "markdown",
   "source": [
    "# Data Visualization of Food Trucks in IN with Route between."
   ],
   "metadata": {
    "collapsed": false
   },
   "id": "d15f8ff99542df32"
  },
  {
   "cell_type": "code",
   "execution_count": 174,
   "outputs": [],
   "source": [
    "import plotly.graph_objects as go\n",
    "import pandas as pd\n",
    "import json\n",
    "with open('dev/tokens.json') as f:\n",
    "    data = json.load(f)\n",
    "    GOOGLE_API_KEY = data['GOOGLE_API_KEY']\n",
    "    MAP_TOKEN = data['MAP_TOKEN']\n",
    "\n",
    "\n",
    "truck_df = pd.read_csv('data/food_trucks.csv')\n",
    "# mapbox_access_token = open(\".mapbox_token\").read()\n",
    "latitudePts = truck_df['lat']\n",
    "longitudePts = truck_df['lng']\n",
    "names = truck_df['name']\n",
    "techpoint = {\n",
    "    \"location\": {\n",
    "        'lat': 39.78728396765869,\n",
    "        'lng': -86.18316063589883}\n",
    "}"
   ],
   "metadata": {
    "collapsed": false,
    "ExecuteTime": {
     "end_time": "2023-10-17T04:38:59.419527Z",
     "start_time": "2023-10-17T04:38:59.400961Z"
    }
   },
   "id": "initial_id"
  },
  {
   "cell_type": "markdown",
   "source": [
    "## Create Tour\n"
   ],
   "metadata": {
    "collapsed": false
   },
   "id": "aaa73eb0d4efdd51"
  },
  {
   "cell_type": "code",
   "execution_count": 175,
   "outputs": [
    {
     "data": {
      "text/plain": "['Pico de Gallo Food Truck',\n 'El Rinconcito Salvadoreño food truck',\n 'Pico de Gallo Food Truck',\n 'El Viejon Food Truck',\n 'Food Truck Don Luis',\n 'KG Slider Station',\n 'TACOPOLIS (LA CAPITAL DEL TACO)',\n 'Antojitos Guzman food truck #1',\n 'Tacos El Iturbidense',\n 'El Amigo Taqueria Food Truck',\n 'FELIX TACOS TRUCK']"
     },
     "execution_count": 175,
     "metadata": {},
     "output_type": "execute_result"
    }
   ],
   "source": [
    "df = pd.read_csv('data/directions_driving.csv')\n",
    "\n",
    "df2 = df.copy()\n",
    "import random\n",
    "trucks = df['origin'].unique()\n",
    "r = random.randint(0, len(trucks)-1)\n",
    "stops = 10 # how many food trucks you want to visit in a day\n",
    "start = trucks[r] # you can type the name or use random to select\n",
    "tour = [start]\n",
    "for i in range(stops):\n",
    "    # find the nearest next stop\n",
    "    df_tmp = df2[df2['origin'] == start].sort_values(by=\"duration\", ascending=True).reset_index(drop=True).iloc[0]\n",
    "    start = df_tmp[\"destination\"]\n",
    "    tour.append(start)\n",
    "    df2 = df2.where(df2['destination'] != start)\n",
    "tour"
   ],
   "metadata": {
    "collapsed": false,
    "ExecuteTime": {
     "end_time": "2023-10-17T04:38:59.475371Z",
     "start_time": "2023-10-17T04:38:59.432738Z"
    }
   },
   "id": "994f55beac93a73b"
  },
  {
   "cell_type": "markdown",
   "source": [
    "## Get route data"
   ],
   "metadata": {
    "collapsed": false
   },
   "id": "66163dd247361462"
  },
  {
   "cell_type": "code",
   "execution_count": 176,
   "outputs": [],
   "source": [
    "with open('data/full_data.json') as f:\n",
    "    details = json.load(f)\n",
    "\n",
    "\n",
    "def get_route_between(origin, destination):\n",
    "    for i in details:\n",
    "        if i[\"origin\"] ==origin and i[\"destination\"] ==destination:\n",
    "            return i\n",
    "\n",
    "lats = []\n",
    "lngs = []\n",
    "dists = []\n",
    "times = []\n",
    "for i in range(len(tour)):\n",
    "    if i == len(tour)-1:\n",
    "        break\n",
    "    origin = tour[i]\n",
    "    destination = tour[i+1]\n",
    "    result_dict = get_route_between(origin, destination)\n",
    "    lats = lats + result_dict[\"lats\"]\n",
    "    lngs = lngs + result_dict[\"lngs\"]\n",
    "    dists.append(result_dict['distance'])\n",
    "    times.append(result_dict['duration'])"
   ],
   "metadata": {
    "collapsed": false,
    "ExecuteTime": {
     "end_time": "2023-10-17T04:38:59.733064Z",
     "start_time": "2023-10-17T04:38:59.476889Z"
    }
   },
   "id": "2259e5f3440615f7"
  },
  {
   "cell_type": "code",
   "execution_count": 177,
   "outputs": [],
   "source": [
    "## Visualize with Interactive Dashboard"
   ],
   "metadata": {
    "collapsed": false,
    "ExecuteTime": {
     "end_time": "2023-10-17T04:38:59.736472Z",
     "start_time": "2023-10-17T04:38:59.733256Z"
    }
   },
   "id": "aa69155da0551ec5"
  },
  {
   "cell_type": "code",
   "execution_count": 178,
   "outputs": [
    {
     "data": {
      "application/vnd.plotly.v1+json": {
       "data": [
        {
         "hoverinfo": "text",
         "lat": [
          39.8100315,
          39.8115879,
          39.8115879,
          39.8100315,
          39.8100315,
          39.8096509,
          39.8096509,
          39.8096337,
          39.8096337,
          39.8098373,
          39.8098373,
          39.8096337,
          39.8096337,
          39.8096509,
          39.8096509,
          39.8167743,
          39.8167743,
          39.8169617,
          39.8169617,
          39.8183256,
          39.8183256,
          39.820084,
          39.820084,
          39.8221976,
          39.8221976,
          39.8221751,
          39.8221751,
          39.8239908,
          39.8239908,
          39.82411159999999,
          39.82411159999999,
          39.8231714,
          39.8231714,
          39.8230087,
          39.8230087,
          39.8229139,
          39.8229139,
          39.8237445,
          39.8237445,
          39.823772,
          39.823772,
          39.8239385,
          39.8239385,
          39.8239393,
          39.8239393,
          39.8239999,
          39.8239999,
          39.823857,
          39.823857,
          39.823906,
          39.823906,
          39.8287842,
          39.8287842,
          39.8343238,
          39.8343238,
          39.8517339,
          39.8517339,
          39.8518391,
          39.8518391,
          39.8525391,
          39.8525391,
          39.8525327,
          39.8529191,
          39.8529168,
          39.8529168,
          39.8532576,
          39.8532576,
          39.8528422,
          39.8528422,
          39.7849971,
          39.7849971,
          39.7796058,
          39.7796058,
          39.7795361,
          39.7795361,
          39.7795304,
          39.7795304,
          39.7804396,
          39.7804396,
          39.787498,
          39.787498,
          39.78783,
          39.78783,
          39.78843910000001,
          39.78843910000001,
          39.7884213,
          39.7884213,
          39.7878412,
          39.7878412,
          39.78783,
          39.78783,
          39.7646996,
          39.7646996,
          39.7648842,
          39.7648842,
          39.7642455,
          39.7642455,
          39.76415069999999
         ],
         "line": {
          "width": 2
         },
         "lon": [
          -86.2210317,
          -86.22259179999999,
          -86.22259179999999,
          -86.2210317,
          -86.2210317,
          -86.22064739999999,
          -86.22064739999999,
          -86.2217926,
          -86.2217926,
          -86.2218012,
          -86.2218012,
          -86.2217926,
          -86.2217926,
          -86.22064739999999,
          -86.22064739999999,
          -86.22783659999999,
          -86.22783659999999,
          -86.227485,
          -86.227485,
          -86.2265099,
          -86.2265099,
          -86.227453,
          -86.227453,
          -86.22750669999999,
          -86.22750669999999,
          -86.2285653,
          -86.2285653,
          -86.2299122,
          -86.2299122,
          -86.23488479999999,
          -86.23488479999999,
          -86.2341775,
          -86.2341775,
          -86.234478,
          -86.234478,
          -86.2356219,
          -86.2356219,
          -86.2356709,
          -86.2356709,
          -86.2354248,
          -86.2354248,
          -86.2354307,
          -86.2354307,
          -86.2349464,
          -86.2349464,
          -86.2421138,
          -86.2421138,
          -86.2422903,
          -86.2422903,
          -86.2400967,
          -86.2400967,
          -86.2398904,
          -86.2398904,
          -86.24497559999999,
          -86.24497559999999,
          -86.2402974,
          -86.2402974,
          -86.2410232,
          -86.2410232,
          -86.2410179,
          -86.2410179,
          -86.241356,
          -86.24143749999999,
          -86.24195019999999,
          -86.24195019999999,
          -86.2419649,
          -86.2419649,
          -86.27892609999999,
          -86.27892609999999,
          -86.270669,
          -86.270669,
          -86.27103939999999,
          -86.27103939999999,
          -86.2739217,
          -86.2739217,
          -86.2756641,
          -86.2756641,
          -86.2342358,
          -86.2342358,
          -86.234844,
          -86.234844,
          -86.215812,
          -86.215812,
          -86.2158236,
          -86.2158236,
          -86.2152922,
          -86.2152922,
          -86.214961,
          -86.214961,
          -86.215812,
          -86.215812,
          -86.21182429999999,
          -86.21182429999999,
          -86.2104445,
          -86.2104445,
          -86.2104073,
          -86.2104073,
          -86.2113162
         ],
         "marker": {
          "size": 5
         },
         "mode": "lines",
         "name": "Route",
         "text": [
          "0.3",
          "0.4",
          "0.5",
          "3.4",
          "5.2",
          "4.4",
          "6.7",
          "10.9",
          "9.7",
          "6.5"
         ],
         "type": "scattermapbox",
         "textposition": "top center",
         "showlegend": true
        },
        {
         "hoverinfo": "text",
         "lat": [
          39.8099204,
          39.7386158,
          39.8527225,
          39.8557077,
          39.6981336,
          39.7608462,
          39.8099076,
          39.8183177,
          39.8229185,
          39.7882877,
          39.7775861,
          39.76168620000001,
          39.7604686,
          39.768243,
          39.8024795,
          39.8251041,
          39.764207,
          39.779803,
          39.8237417,
          39.8113723
         ],
         "lon": [
          -86.2212091,
          -86.0821965,
          -86.24143649999999,
          -86.1137069,
          -86.18572879999999,
          -86.0812326,
          -86.2216177,
          -86.22698319999999,
          -86.2344232,
          -86.2153062,
          -86.1556021,
          -86.15793029999999,
          -86.22475039999999,
          -86.1100464,
          -86.1499178,
          -86.1177611,
          -86.211581,
          -86.27393300000001,
          -86.2422862,
          -86.22295629999999
         ],
         "marker": {
          "size": 9
         },
         "mode": "markers",
         "name": "Trucks",
         "text": [
          "Pico de Gallo Food Truck",
          "Food truck Mil Amores",
          "Antojitos Guzman food truck #1",
          "Taco food truck",
          "King gyros food truck",
          "El Buenavista Food Truck",
          "El Viejon Food Truck",
          "Food Truck Don Luis",
          "KG Slider Station",
          "El Amigo Taqueria Food Truck",
          "ClusterTruck",
          "The Night Owl Food Truck",
          "ROSE’S foodtruck Honduras",
          "3 Marias Mex Food Truck",
          "Tha Corn Man",
          "Fiesta on The Go",
          "FELIX TACOS TRUCK",
          "Tacos El Iturbidense",
          "TACOPOLIS (LA CAPITAL DEL TACO)",
          "El Rinconcito Salvadoreño food truck"
         ],
         "type": "scattermapbox",
         "textposition": "top center",
         "showlegend": true
        }
       ],
       "layout": {
        "template": {
         "data": {
          "histogram2dcontour": [
           {
            "type": "histogram2dcontour",
            "colorbar": {
             "outlinewidth": 0,
             "ticks": ""
            },
            "colorscale": [
             [
              0.0,
              "#0d0887"
             ],
             [
              0.1111111111111111,
              "#46039f"
             ],
             [
              0.2222222222222222,
              "#7201a8"
             ],
             [
              0.3333333333333333,
              "#9c179e"
             ],
             [
              0.4444444444444444,
              "#bd3786"
             ],
             [
              0.5555555555555556,
              "#d8576b"
             ],
             [
              0.6666666666666666,
              "#ed7953"
             ],
             [
              0.7777777777777778,
              "#fb9f3a"
             ],
             [
              0.8888888888888888,
              "#fdca26"
             ],
             [
              1.0,
              "#f0f921"
             ]
            ]
           }
          ],
          "choropleth": [
           {
            "type": "choropleth",
            "colorbar": {
             "outlinewidth": 0,
             "ticks": ""
            }
           }
          ],
          "histogram2d": [
           {
            "type": "histogram2d",
            "colorbar": {
             "outlinewidth": 0,
             "ticks": ""
            },
            "colorscale": [
             [
              0.0,
              "#0d0887"
             ],
             [
              0.1111111111111111,
              "#46039f"
             ],
             [
              0.2222222222222222,
              "#7201a8"
             ],
             [
              0.3333333333333333,
              "#9c179e"
             ],
             [
              0.4444444444444444,
              "#bd3786"
             ],
             [
              0.5555555555555556,
              "#d8576b"
             ],
             [
              0.6666666666666666,
              "#ed7953"
             ],
             [
              0.7777777777777778,
              "#fb9f3a"
             ],
             [
              0.8888888888888888,
              "#fdca26"
             ],
             [
              1.0,
              "#f0f921"
             ]
            ]
           }
          ],
          "heatmap": [
           {
            "type": "heatmap",
            "colorbar": {
             "outlinewidth": 0,
             "ticks": ""
            },
            "colorscale": [
             [
              0.0,
              "#0d0887"
             ],
             [
              0.1111111111111111,
              "#46039f"
             ],
             [
              0.2222222222222222,
              "#7201a8"
             ],
             [
              0.3333333333333333,
              "#9c179e"
             ],
             [
              0.4444444444444444,
              "#bd3786"
             ],
             [
              0.5555555555555556,
              "#d8576b"
             ],
             [
              0.6666666666666666,
              "#ed7953"
             ],
             [
              0.7777777777777778,
              "#fb9f3a"
             ],
             [
              0.8888888888888888,
              "#fdca26"
             ],
             [
              1.0,
              "#f0f921"
             ]
            ]
           }
          ],
          "heatmapgl": [
           {
            "type": "heatmapgl",
            "colorbar": {
             "outlinewidth": 0,
             "ticks": ""
            },
            "colorscale": [
             [
              0.0,
              "#0d0887"
             ],
             [
              0.1111111111111111,
              "#46039f"
             ],
             [
              0.2222222222222222,
              "#7201a8"
             ],
             [
              0.3333333333333333,
              "#9c179e"
             ],
             [
              0.4444444444444444,
              "#bd3786"
             ],
             [
              0.5555555555555556,
              "#d8576b"
             ],
             [
              0.6666666666666666,
              "#ed7953"
             ],
             [
              0.7777777777777778,
              "#fb9f3a"
             ],
             [
              0.8888888888888888,
              "#fdca26"
             ],
             [
              1.0,
              "#f0f921"
             ]
            ]
           }
          ],
          "contourcarpet": [
           {
            "type": "contourcarpet",
            "colorbar": {
             "outlinewidth": 0,
             "ticks": ""
            }
           }
          ],
          "contour": [
           {
            "type": "contour",
            "colorbar": {
             "outlinewidth": 0,
             "ticks": ""
            },
            "colorscale": [
             [
              0.0,
              "#0d0887"
             ],
             [
              0.1111111111111111,
              "#46039f"
             ],
             [
              0.2222222222222222,
              "#7201a8"
             ],
             [
              0.3333333333333333,
              "#9c179e"
             ],
             [
              0.4444444444444444,
              "#bd3786"
             ],
             [
              0.5555555555555556,
              "#d8576b"
             ],
             [
              0.6666666666666666,
              "#ed7953"
             ],
             [
              0.7777777777777778,
              "#fb9f3a"
             ],
             [
              0.8888888888888888,
              "#fdca26"
             ],
             [
              1.0,
              "#f0f921"
             ]
            ]
           }
          ],
          "surface": [
           {
            "type": "surface",
            "colorbar": {
             "outlinewidth": 0,
             "ticks": ""
            },
            "colorscale": [
             [
              0.0,
              "#0d0887"
             ],
             [
              0.1111111111111111,
              "#46039f"
             ],
             [
              0.2222222222222222,
              "#7201a8"
             ],
             [
              0.3333333333333333,
              "#9c179e"
             ],
             [
              0.4444444444444444,
              "#bd3786"
             ],
             [
              0.5555555555555556,
              "#d8576b"
             ],
             [
              0.6666666666666666,
              "#ed7953"
             ],
             [
              0.7777777777777778,
              "#fb9f3a"
             ],
             [
              0.8888888888888888,
              "#fdca26"
             ],
             [
              1.0,
              "#f0f921"
             ]
            ]
           }
          ],
          "mesh3d": [
           {
            "type": "mesh3d",
            "colorbar": {
             "outlinewidth": 0,
             "ticks": ""
            }
           }
          ],
          "scatter": [
           {
            "marker": {
             "line": {
              "color": "#283442"
             }
            },
            "type": "scatter"
           }
          ],
          "parcoords": [
           {
            "type": "parcoords",
            "line": {
             "colorbar": {
              "outlinewidth": 0,
              "ticks": ""
             }
            }
           }
          ],
          "scatterpolargl": [
           {
            "type": "scatterpolargl",
            "marker": {
             "colorbar": {
              "outlinewidth": 0,
              "ticks": ""
             }
            }
           }
          ],
          "bar": [
           {
            "error_x": {
             "color": "#f2f5fa"
            },
            "error_y": {
             "color": "#f2f5fa"
            },
            "marker": {
             "line": {
              "color": "rgb(17,17,17)",
              "width": 0.5
             },
             "pattern": {
              "fillmode": "overlay",
              "size": 10,
              "solidity": 0.2
             }
            },
            "type": "bar"
           }
          ],
          "scattergeo": [
           {
            "type": "scattergeo",
            "marker": {
             "colorbar": {
              "outlinewidth": 0,
              "ticks": ""
             }
            }
           }
          ],
          "scatterpolar": [
           {
            "type": "scatterpolar",
            "marker": {
             "colorbar": {
              "outlinewidth": 0,
              "ticks": ""
             }
            }
           }
          ],
          "histogram": [
           {
            "marker": {
             "pattern": {
              "fillmode": "overlay",
              "size": 10,
              "solidity": 0.2
             }
            },
            "type": "histogram"
           }
          ],
          "scattergl": [
           {
            "marker": {
             "line": {
              "color": "#283442"
             }
            },
            "type": "scattergl"
           }
          ],
          "scatter3d": [
           {
            "type": "scatter3d",
            "line": {
             "colorbar": {
              "outlinewidth": 0,
              "ticks": ""
             }
            },
            "marker": {
             "colorbar": {
              "outlinewidth": 0,
              "ticks": ""
             }
            }
           }
          ],
          "scattermapbox": [
           {
            "type": "scattermapbox",
            "marker": {
             "colorbar": {
              "outlinewidth": 0,
              "ticks": ""
             }
            }
           }
          ],
          "scatterternary": [
           {
            "type": "scatterternary",
            "marker": {
             "colorbar": {
              "outlinewidth": 0,
              "ticks": ""
             }
            }
           }
          ],
          "scattercarpet": [
           {
            "type": "scattercarpet",
            "marker": {
             "colorbar": {
              "outlinewidth": 0,
              "ticks": ""
             }
            }
           }
          ],
          "carpet": [
           {
            "aaxis": {
             "endlinecolor": "#A2B1C6",
             "gridcolor": "#506784",
             "linecolor": "#506784",
             "minorgridcolor": "#506784",
             "startlinecolor": "#A2B1C6"
            },
            "baxis": {
             "endlinecolor": "#A2B1C6",
             "gridcolor": "#506784",
             "linecolor": "#506784",
             "minorgridcolor": "#506784",
             "startlinecolor": "#A2B1C6"
            },
            "type": "carpet"
           }
          ],
          "table": [
           {
            "cells": {
             "fill": {
              "color": "#506784"
             },
             "line": {
              "color": "rgb(17,17,17)"
             }
            },
            "header": {
             "fill": {
              "color": "#2a3f5f"
             },
             "line": {
              "color": "rgb(17,17,17)"
             }
            },
            "type": "table"
           }
          ],
          "barpolar": [
           {
            "marker": {
             "line": {
              "color": "rgb(17,17,17)",
              "width": 0.5
             },
             "pattern": {
              "fillmode": "overlay",
              "size": 10,
              "solidity": 0.2
             }
            },
            "type": "barpolar"
           }
          ],
          "pie": [
           {
            "automargin": true,
            "type": "pie"
           }
          ]
         },
         "layout": {
          "autotypenumbers": "strict",
          "colorway": [
           "#636efa",
           "#EF553B",
           "#00cc96",
           "#ab63fa",
           "#FFA15A",
           "#19d3f3",
           "#FF6692",
           "#B6E880",
           "#FF97FF",
           "#FECB52"
          ],
          "font": {
           "color": "#f2f5fa"
          },
          "hovermode": "closest",
          "hoverlabel": {
           "align": "left"
          },
          "paper_bgcolor": "rgb(17,17,17)",
          "plot_bgcolor": "rgb(17,17,17)",
          "polar": {
           "bgcolor": "rgb(17,17,17)",
           "angularaxis": {
            "gridcolor": "#506784",
            "linecolor": "#506784",
            "ticks": ""
           },
           "radialaxis": {
            "gridcolor": "#506784",
            "linecolor": "#506784",
            "ticks": ""
           }
          },
          "ternary": {
           "bgcolor": "rgb(17,17,17)",
           "aaxis": {
            "gridcolor": "#506784",
            "linecolor": "#506784",
            "ticks": ""
           },
           "baxis": {
            "gridcolor": "#506784",
            "linecolor": "#506784",
            "ticks": ""
           },
           "caxis": {
            "gridcolor": "#506784",
            "linecolor": "#506784",
            "ticks": ""
           }
          },
          "coloraxis": {
           "colorbar": {
            "outlinewidth": 0,
            "ticks": ""
           }
          },
          "colorscale": {
           "sequential": [
            [
             0.0,
             "#0d0887"
            ],
            [
             0.1111111111111111,
             "#46039f"
            ],
            [
             0.2222222222222222,
             "#7201a8"
            ],
            [
             0.3333333333333333,
             "#9c179e"
            ],
            [
             0.4444444444444444,
             "#bd3786"
            ],
            [
             0.5555555555555556,
             "#d8576b"
            ],
            [
             0.6666666666666666,
             "#ed7953"
            ],
            [
             0.7777777777777778,
             "#fb9f3a"
            ],
            [
             0.8888888888888888,
             "#fdca26"
            ],
            [
             1.0,
             "#f0f921"
            ]
           ],
           "sequentialminus": [
            [
             0.0,
             "#0d0887"
            ],
            [
             0.1111111111111111,
             "#46039f"
            ],
            [
             0.2222222222222222,
             "#7201a8"
            ],
            [
             0.3333333333333333,
             "#9c179e"
            ],
            [
             0.4444444444444444,
             "#bd3786"
            ],
            [
             0.5555555555555556,
             "#d8576b"
            ],
            [
             0.6666666666666666,
             "#ed7953"
            ],
            [
             0.7777777777777778,
             "#fb9f3a"
            ],
            [
             0.8888888888888888,
             "#fdca26"
            ],
            [
             1.0,
             "#f0f921"
            ]
           ],
           "diverging": [
            [
             0,
             "#8e0152"
            ],
            [
             0.1,
             "#c51b7d"
            ],
            [
             0.2,
             "#de77ae"
            ],
            [
             0.3,
             "#f1b6da"
            ],
            [
             0.4,
             "#fde0ef"
            ],
            [
             0.5,
             "#f7f7f7"
            ],
            [
             0.6,
             "#e6f5d0"
            ],
            [
             0.7,
             "#b8e186"
            ],
            [
             0.8,
             "#7fbc41"
            ],
            [
             0.9,
             "#4d9221"
            ],
            [
             1,
             "#276419"
            ]
           ]
          },
          "xaxis": {
           "gridcolor": "#283442",
           "linecolor": "#506784",
           "ticks": "",
           "title": {
            "standoff": 15
           },
           "zerolinecolor": "#283442",
           "automargin": true,
           "zerolinewidth": 2
          },
          "yaxis": {
           "gridcolor": "#283442",
           "linecolor": "#506784",
           "ticks": "",
           "title": {
            "standoff": 15
           },
           "zerolinecolor": "#283442",
           "automargin": true,
           "zerolinewidth": 2
          },
          "scene": {
           "xaxis": {
            "backgroundcolor": "rgb(17,17,17)",
            "gridcolor": "#506784",
            "linecolor": "#506784",
            "showbackground": true,
            "ticks": "",
            "zerolinecolor": "#C8D4E3",
            "gridwidth": 2
           },
           "yaxis": {
            "backgroundcolor": "rgb(17,17,17)",
            "gridcolor": "#506784",
            "linecolor": "#506784",
            "showbackground": true,
            "ticks": "",
            "zerolinecolor": "#C8D4E3",
            "gridwidth": 2
           },
           "zaxis": {
            "backgroundcolor": "rgb(17,17,17)",
            "gridcolor": "#506784",
            "linecolor": "#506784",
            "showbackground": true,
            "ticks": "",
            "zerolinecolor": "#C8D4E3",
            "gridwidth": 2
           }
          },
          "shapedefaults": {
           "line": {
            "color": "#f2f5fa"
           }
          },
          "annotationdefaults": {
           "arrowcolor": "#f2f5fa",
           "arrowhead": 0,
           "arrowwidth": 1
          },
          "geo": {
           "bgcolor": "rgb(17,17,17)",
           "landcolor": "rgb(17,17,17)",
           "subunitcolor": "#506784",
           "showland": true,
           "showlakes": true,
           "lakecolor": "rgb(17,17,17)"
          },
          "title": {
           "x": 0.05
          },
          "updatemenudefaults": {
           "bgcolor": "#506784",
           "borderwidth": 0
          },
          "sliderdefaults": {
           "bgcolor": "#C8D4E3",
           "borderwidth": 1,
           "bordercolor": "rgb(17,17,17)",
           "tickwidth": 0
          },
          "mapbox": {
           "style": "dark"
          }
         }
        },
        "mapbox": {
         "center": {
          "lat": 39.78728396765869,
          "lon": -86.18316063589883
         },
         "accesstoken": "pk.eyJ1IjoiamltbXlzdGVyZW8iLCJhIjoiY2xuc3plcDAzMWdhZTJscGppM3V3Z3NoeiJ9.f5PJA7abvYBtBcohZDDM_g",
         "bearing": 0,
         "pitch": 0,
         "zoom": 10
        },
        "title": {
         "text": "Total Distance: 29.4 Km\n Total Distance: 48.1 Min"
        },
        "autosize": true,
        "hovermode": "closest"
       },
       "config": {
        "plotlyServerURL": "https://plot.ly"
       }
      },
      "text/html": "<div>                            <div id=\"79ca1d49-382a-4723-9e57-ca4d2666c2bf\" class=\"plotly-graph-div\" style=\"height:525px; width:100%;\"></div>            <script type=\"text/javascript\">                require([\"plotly\"], function(Plotly) {                    window.PLOTLYENV=window.PLOTLYENV || {};                                    if (document.getElementById(\"79ca1d49-382a-4723-9e57-ca4d2666c2bf\")) {                    Plotly.newPlot(                        \"79ca1d49-382a-4723-9e57-ca4d2666c2bf\",                        [{\"hoverinfo\":\"text\",\"lat\":[39.8100315,39.8115879,39.8115879,39.8100315,39.8100315,39.8096509,39.8096509,39.8096337,39.8096337,39.8098373,39.8098373,39.8096337,39.8096337,39.8096509,39.8096509,39.8167743,39.8167743,39.8169617,39.8169617,39.8183256,39.8183256,39.820084,39.820084,39.8221976,39.8221976,39.8221751,39.8221751,39.8239908,39.8239908,39.82411159999999,39.82411159999999,39.8231714,39.8231714,39.8230087,39.8230087,39.8229139,39.8229139,39.8237445,39.8237445,39.823772,39.823772,39.8239385,39.8239385,39.8239393,39.8239393,39.8239999,39.8239999,39.823857,39.823857,39.823906,39.823906,39.8287842,39.8287842,39.8343238,39.8343238,39.8517339,39.8517339,39.8518391,39.8518391,39.8525391,39.8525391,39.8525327,39.8529191,39.8529168,39.8529168,39.8532576,39.8532576,39.8528422,39.8528422,39.7849971,39.7849971,39.7796058,39.7796058,39.7795361,39.7795361,39.7795304,39.7795304,39.7804396,39.7804396,39.787498,39.787498,39.78783,39.78783,39.78843910000001,39.78843910000001,39.7884213,39.7884213,39.7878412,39.7878412,39.78783,39.78783,39.7646996,39.7646996,39.7648842,39.7648842,39.7642455,39.7642455,39.76415069999999],\"line\":{\"width\":2},\"lon\":[-86.2210317,-86.22259179999999,-86.22259179999999,-86.2210317,-86.2210317,-86.22064739999999,-86.22064739999999,-86.2217926,-86.2217926,-86.2218012,-86.2218012,-86.2217926,-86.2217926,-86.22064739999999,-86.22064739999999,-86.22783659999999,-86.22783659999999,-86.227485,-86.227485,-86.2265099,-86.2265099,-86.227453,-86.227453,-86.22750669999999,-86.22750669999999,-86.2285653,-86.2285653,-86.2299122,-86.2299122,-86.23488479999999,-86.23488479999999,-86.2341775,-86.2341775,-86.234478,-86.234478,-86.2356219,-86.2356219,-86.2356709,-86.2356709,-86.2354248,-86.2354248,-86.2354307,-86.2354307,-86.2349464,-86.2349464,-86.2421138,-86.2421138,-86.2422903,-86.2422903,-86.2400967,-86.2400967,-86.2398904,-86.2398904,-86.24497559999999,-86.24497559999999,-86.2402974,-86.2402974,-86.2410232,-86.2410232,-86.2410179,-86.2410179,-86.241356,-86.24143749999999,-86.24195019999999,-86.24195019999999,-86.2419649,-86.2419649,-86.27892609999999,-86.27892609999999,-86.270669,-86.270669,-86.27103939999999,-86.27103939999999,-86.2739217,-86.2739217,-86.2756641,-86.2756641,-86.2342358,-86.2342358,-86.234844,-86.234844,-86.215812,-86.215812,-86.2158236,-86.2158236,-86.2152922,-86.2152922,-86.214961,-86.214961,-86.215812,-86.215812,-86.21182429999999,-86.21182429999999,-86.2104445,-86.2104445,-86.2104073,-86.2104073,-86.2113162],\"marker\":{\"size\":5},\"mode\":\"lines\",\"name\":\"Route\",\"text\":[\"0.3\",\"0.4\",\"0.5\",\"3.4\",\"5.2\",\"4.4\",\"6.7\",\"10.9\",\"9.7\",\"6.5\"],\"type\":\"scattermapbox\",\"textposition\":\"top center\",\"showlegend\":true},{\"hoverinfo\":\"text\",\"lat\":[39.8099204,39.7386158,39.8527225,39.8557077,39.6981336,39.7608462,39.8099076,39.8183177,39.8229185,39.7882877,39.7775861,39.76168620000001,39.7604686,39.768243,39.8024795,39.8251041,39.764207,39.779803,39.8237417,39.8113723],\"lon\":[-86.2212091,-86.0821965,-86.24143649999999,-86.1137069,-86.18572879999999,-86.0812326,-86.2216177,-86.22698319999999,-86.2344232,-86.2153062,-86.1556021,-86.15793029999999,-86.22475039999999,-86.1100464,-86.1499178,-86.1177611,-86.211581,-86.27393300000001,-86.2422862,-86.22295629999999],\"marker\":{\"size\":9},\"mode\":\"markers\",\"name\":\"Trucks\",\"text\":[\"Pico de Gallo Food Truck\",\"Food truck Mil Amores\",\"Antojitos Guzman food truck #1\",\"Taco food truck\",\"King gyros food truck\",\"El Buenavista Food Truck\",\"El Viejon Food Truck\",\"Food Truck Don Luis\",\"KG Slider Station\",\"El Amigo Taqueria Food Truck\",\"ClusterTruck\",\"The Night Owl Food Truck\",\"ROSE\\u2019S foodtruck Honduras\",\"3 Marias Mex Food Truck\",\"Tha Corn Man\",\"Fiesta on The Go\",\"FELIX TACOS TRUCK\",\"Tacos El Iturbidense\",\"TACOPOLIS (LA CAPITAL DEL TACO)\",\"El Rinconcito Salvadore\\u00f1o food truck\"],\"type\":\"scattermapbox\",\"textposition\":\"top center\",\"showlegend\":true}],                        {\"template\":{\"data\":{\"histogram2dcontour\":[{\"type\":\"histogram2dcontour\",\"colorbar\":{\"outlinewidth\":0,\"ticks\":\"\"},\"colorscale\":[[0.0,\"#0d0887\"],[0.1111111111111111,\"#46039f\"],[0.2222222222222222,\"#7201a8\"],[0.3333333333333333,\"#9c179e\"],[0.4444444444444444,\"#bd3786\"],[0.5555555555555556,\"#d8576b\"],[0.6666666666666666,\"#ed7953\"],[0.7777777777777778,\"#fb9f3a\"],[0.8888888888888888,\"#fdca26\"],[1.0,\"#f0f921\"]]}],\"choropleth\":[{\"type\":\"choropleth\",\"colorbar\":{\"outlinewidth\":0,\"ticks\":\"\"}}],\"histogram2d\":[{\"type\":\"histogram2d\",\"colorbar\":{\"outlinewidth\":0,\"ticks\":\"\"},\"colorscale\":[[0.0,\"#0d0887\"],[0.1111111111111111,\"#46039f\"],[0.2222222222222222,\"#7201a8\"],[0.3333333333333333,\"#9c179e\"],[0.4444444444444444,\"#bd3786\"],[0.5555555555555556,\"#d8576b\"],[0.6666666666666666,\"#ed7953\"],[0.7777777777777778,\"#fb9f3a\"],[0.8888888888888888,\"#fdca26\"],[1.0,\"#f0f921\"]]}],\"heatmap\":[{\"type\":\"heatmap\",\"colorbar\":{\"outlinewidth\":0,\"ticks\":\"\"},\"colorscale\":[[0.0,\"#0d0887\"],[0.1111111111111111,\"#46039f\"],[0.2222222222222222,\"#7201a8\"],[0.3333333333333333,\"#9c179e\"],[0.4444444444444444,\"#bd3786\"],[0.5555555555555556,\"#d8576b\"],[0.6666666666666666,\"#ed7953\"],[0.7777777777777778,\"#fb9f3a\"],[0.8888888888888888,\"#fdca26\"],[1.0,\"#f0f921\"]]}],\"heatmapgl\":[{\"type\":\"heatmapgl\",\"colorbar\":{\"outlinewidth\":0,\"ticks\":\"\"},\"colorscale\":[[0.0,\"#0d0887\"],[0.1111111111111111,\"#46039f\"],[0.2222222222222222,\"#7201a8\"],[0.3333333333333333,\"#9c179e\"],[0.4444444444444444,\"#bd3786\"],[0.5555555555555556,\"#d8576b\"],[0.6666666666666666,\"#ed7953\"],[0.7777777777777778,\"#fb9f3a\"],[0.8888888888888888,\"#fdca26\"],[1.0,\"#f0f921\"]]}],\"contourcarpet\":[{\"type\":\"contourcarpet\",\"colorbar\":{\"outlinewidth\":0,\"ticks\":\"\"}}],\"contour\":[{\"type\":\"contour\",\"colorbar\":{\"outlinewidth\":0,\"ticks\":\"\"},\"colorscale\":[[0.0,\"#0d0887\"],[0.1111111111111111,\"#46039f\"],[0.2222222222222222,\"#7201a8\"],[0.3333333333333333,\"#9c179e\"],[0.4444444444444444,\"#bd3786\"],[0.5555555555555556,\"#d8576b\"],[0.6666666666666666,\"#ed7953\"],[0.7777777777777778,\"#fb9f3a\"],[0.8888888888888888,\"#fdca26\"],[1.0,\"#f0f921\"]]}],\"surface\":[{\"type\":\"surface\",\"colorbar\":{\"outlinewidth\":0,\"ticks\":\"\"},\"colorscale\":[[0.0,\"#0d0887\"],[0.1111111111111111,\"#46039f\"],[0.2222222222222222,\"#7201a8\"],[0.3333333333333333,\"#9c179e\"],[0.4444444444444444,\"#bd3786\"],[0.5555555555555556,\"#d8576b\"],[0.6666666666666666,\"#ed7953\"],[0.7777777777777778,\"#fb9f3a\"],[0.8888888888888888,\"#fdca26\"],[1.0,\"#f0f921\"]]}],\"mesh3d\":[{\"type\":\"mesh3d\",\"colorbar\":{\"outlinewidth\":0,\"ticks\":\"\"}}],\"scatter\":[{\"marker\":{\"line\":{\"color\":\"#283442\"}},\"type\":\"scatter\"}],\"parcoords\":[{\"type\":\"parcoords\",\"line\":{\"colorbar\":{\"outlinewidth\":0,\"ticks\":\"\"}}}],\"scatterpolargl\":[{\"type\":\"scatterpolargl\",\"marker\":{\"colorbar\":{\"outlinewidth\":0,\"ticks\":\"\"}}}],\"bar\":[{\"error_x\":{\"color\":\"#f2f5fa\"},\"error_y\":{\"color\":\"#f2f5fa\"},\"marker\":{\"line\":{\"color\":\"rgb(17,17,17)\",\"width\":0.5},\"pattern\":{\"fillmode\":\"overlay\",\"size\":10,\"solidity\":0.2}},\"type\":\"bar\"}],\"scattergeo\":[{\"type\":\"scattergeo\",\"marker\":{\"colorbar\":{\"outlinewidth\":0,\"ticks\":\"\"}}}],\"scatterpolar\":[{\"type\":\"scatterpolar\",\"marker\":{\"colorbar\":{\"outlinewidth\":0,\"ticks\":\"\"}}}],\"histogram\":[{\"marker\":{\"pattern\":{\"fillmode\":\"overlay\",\"size\":10,\"solidity\":0.2}},\"type\":\"histogram\"}],\"scattergl\":[{\"marker\":{\"line\":{\"color\":\"#283442\"}},\"type\":\"scattergl\"}],\"scatter3d\":[{\"type\":\"scatter3d\",\"line\":{\"colorbar\":{\"outlinewidth\":0,\"ticks\":\"\"}},\"marker\":{\"colorbar\":{\"outlinewidth\":0,\"ticks\":\"\"}}}],\"scattermapbox\":[{\"type\":\"scattermapbox\",\"marker\":{\"colorbar\":{\"outlinewidth\":0,\"ticks\":\"\"}}}],\"scatterternary\":[{\"type\":\"scatterternary\",\"marker\":{\"colorbar\":{\"outlinewidth\":0,\"ticks\":\"\"}}}],\"scattercarpet\":[{\"type\":\"scattercarpet\",\"marker\":{\"colorbar\":{\"outlinewidth\":0,\"ticks\":\"\"}}}],\"carpet\":[{\"aaxis\":{\"endlinecolor\":\"#A2B1C6\",\"gridcolor\":\"#506784\",\"linecolor\":\"#506784\",\"minorgridcolor\":\"#506784\",\"startlinecolor\":\"#A2B1C6\"},\"baxis\":{\"endlinecolor\":\"#A2B1C6\",\"gridcolor\":\"#506784\",\"linecolor\":\"#506784\",\"minorgridcolor\":\"#506784\",\"startlinecolor\":\"#A2B1C6\"},\"type\":\"carpet\"}],\"table\":[{\"cells\":{\"fill\":{\"color\":\"#506784\"},\"line\":{\"color\":\"rgb(17,17,17)\"}},\"header\":{\"fill\":{\"color\":\"#2a3f5f\"},\"line\":{\"color\":\"rgb(17,17,17)\"}},\"type\":\"table\"}],\"barpolar\":[{\"marker\":{\"line\":{\"color\":\"rgb(17,17,17)\",\"width\":0.5},\"pattern\":{\"fillmode\":\"overlay\",\"size\":10,\"solidity\":0.2}},\"type\":\"barpolar\"}],\"pie\":[{\"automargin\":true,\"type\":\"pie\"}]},\"layout\":{\"autotypenumbers\":\"strict\",\"colorway\":[\"#636efa\",\"#EF553B\",\"#00cc96\",\"#ab63fa\",\"#FFA15A\",\"#19d3f3\",\"#FF6692\",\"#B6E880\",\"#FF97FF\",\"#FECB52\"],\"font\":{\"color\":\"#f2f5fa\"},\"hovermode\":\"closest\",\"hoverlabel\":{\"align\":\"left\"},\"paper_bgcolor\":\"rgb(17,17,17)\",\"plot_bgcolor\":\"rgb(17,17,17)\",\"polar\":{\"bgcolor\":\"rgb(17,17,17)\",\"angularaxis\":{\"gridcolor\":\"#506784\",\"linecolor\":\"#506784\",\"ticks\":\"\"},\"radialaxis\":{\"gridcolor\":\"#506784\",\"linecolor\":\"#506784\",\"ticks\":\"\"}},\"ternary\":{\"bgcolor\":\"rgb(17,17,17)\",\"aaxis\":{\"gridcolor\":\"#506784\",\"linecolor\":\"#506784\",\"ticks\":\"\"},\"baxis\":{\"gridcolor\":\"#506784\",\"linecolor\":\"#506784\",\"ticks\":\"\"},\"caxis\":{\"gridcolor\":\"#506784\",\"linecolor\":\"#506784\",\"ticks\":\"\"}},\"coloraxis\":{\"colorbar\":{\"outlinewidth\":0,\"ticks\":\"\"}},\"colorscale\":{\"sequential\":[[0.0,\"#0d0887\"],[0.1111111111111111,\"#46039f\"],[0.2222222222222222,\"#7201a8\"],[0.3333333333333333,\"#9c179e\"],[0.4444444444444444,\"#bd3786\"],[0.5555555555555556,\"#d8576b\"],[0.6666666666666666,\"#ed7953\"],[0.7777777777777778,\"#fb9f3a\"],[0.8888888888888888,\"#fdca26\"],[1.0,\"#f0f921\"]],\"sequentialminus\":[[0.0,\"#0d0887\"],[0.1111111111111111,\"#46039f\"],[0.2222222222222222,\"#7201a8\"],[0.3333333333333333,\"#9c179e\"],[0.4444444444444444,\"#bd3786\"],[0.5555555555555556,\"#d8576b\"],[0.6666666666666666,\"#ed7953\"],[0.7777777777777778,\"#fb9f3a\"],[0.8888888888888888,\"#fdca26\"],[1.0,\"#f0f921\"]],\"diverging\":[[0,\"#8e0152\"],[0.1,\"#c51b7d\"],[0.2,\"#de77ae\"],[0.3,\"#f1b6da\"],[0.4,\"#fde0ef\"],[0.5,\"#f7f7f7\"],[0.6,\"#e6f5d0\"],[0.7,\"#b8e186\"],[0.8,\"#7fbc41\"],[0.9,\"#4d9221\"],[1,\"#276419\"]]},\"xaxis\":{\"gridcolor\":\"#283442\",\"linecolor\":\"#506784\",\"ticks\":\"\",\"title\":{\"standoff\":15},\"zerolinecolor\":\"#283442\",\"automargin\":true,\"zerolinewidth\":2},\"yaxis\":{\"gridcolor\":\"#283442\",\"linecolor\":\"#506784\",\"ticks\":\"\",\"title\":{\"standoff\":15},\"zerolinecolor\":\"#283442\",\"automargin\":true,\"zerolinewidth\":2},\"scene\":{\"xaxis\":{\"backgroundcolor\":\"rgb(17,17,17)\",\"gridcolor\":\"#506784\",\"linecolor\":\"#506784\",\"showbackground\":true,\"ticks\":\"\",\"zerolinecolor\":\"#C8D4E3\",\"gridwidth\":2},\"yaxis\":{\"backgroundcolor\":\"rgb(17,17,17)\",\"gridcolor\":\"#506784\",\"linecolor\":\"#506784\",\"showbackground\":true,\"ticks\":\"\",\"zerolinecolor\":\"#C8D4E3\",\"gridwidth\":2},\"zaxis\":{\"backgroundcolor\":\"rgb(17,17,17)\",\"gridcolor\":\"#506784\",\"linecolor\":\"#506784\",\"showbackground\":true,\"ticks\":\"\",\"zerolinecolor\":\"#C8D4E3\",\"gridwidth\":2}},\"shapedefaults\":{\"line\":{\"color\":\"#f2f5fa\"}},\"annotationdefaults\":{\"arrowcolor\":\"#f2f5fa\",\"arrowhead\":0,\"arrowwidth\":1},\"geo\":{\"bgcolor\":\"rgb(17,17,17)\",\"landcolor\":\"rgb(17,17,17)\",\"subunitcolor\":\"#506784\",\"showland\":true,\"showlakes\":true,\"lakecolor\":\"rgb(17,17,17)\"},\"title\":{\"x\":0.05},\"updatemenudefaults\":{\"bgcolor\":\"#506784\",\"borderwidth\":0},\"sliderdefaults\":{\"bgcolor\":\"#C8D4E3\",\"borderwidth\":1,\"bordercolor\":\"rgb(17,17,17)\",\"tickwidth\":0},\"mapbox\":{\"style\":\"dark\"}}},\"mapbox\":{\"center\":{\"lat\":39.78728396765869,\"lon\":-86.18316063589883},\"accesstoken\":\"pk.eyJ1IjoiamltbXlzdGVyZW8iLCJhIjoiY2xuc3plcDAzMWdhZTJscGppM3V3Z3NoeiJ9.f5PJA7abvYBtBcohZDDM_g\",\"bearing\":0,\"pitch\":0,\"zoom\":10},\"title\":{\"text\":\"Total Distance: 29.4 Km\\n Total Distance: 48.1 Min\"},\"autosize\":true,\"hovermode\":\"closest\"},                        {\"responsive\": true}                    ).then(function(){\n                            \nvar gd = document.getElementById('79ca1d49-382a-4723-9e57-ca4d2666c2bf');\nvar x = new MutationObserver(function (mutations, observer) {{\n        var display = window.getComputedStyle(gd).display;\n        if (!display || display === 'none') {{\n            console.log([gd, 'removed!']);\n            Plotly.purge(gd);\n            observer.disconnect();\n        }}\n}});\n\n// Listen for the removal of the full notebook cells\nvar notebookContainer = gd.closest('#notebook-container');\nif (notebookContainer) {{\n    x.observe(notebookContainer, {childList: true});\n}}\n\n// Listen for the clearing of the current output cell\nvar outputEl = gd.closest('.output');\nif (outputEl) {{\n    x.observe(outputEl, {childList: true});\n}}\n\n                        })                };                });            </script>        </div>"
     },
     "metadata": {},
     "output_type": "display_data"
    }
   ],
   "source": [
    "fig = go.Figure(go.Scattermapbox(\n",
    "    lat=lats,\n",
    "    lon=lngs,\n",
    "    mode='lines',\n",
    "    line=dict(width=2),\n",
    "    marker=dict(\n",
    "        size=5,\n",
    "    ),\n",
    "    text=[round(t/60,1) for t in times],\n",
    "    hoverinfo='text',\n",
    "    name = \"Route\",\n",
    "))\n",
    "fig.add_trace(go.Scattermapbox(\n",
    "    lat=latitudePts,\n",
    "    lon=longitudePts,\n",
    "    mode='markers',\n",
    "    marker=go.scattermapbox.Marker(\n",
    "        size=9\n",
    "    ),\n",
    "    text=names,\n",
    "    hoverinfo='text',\n",
    "    name = 'Trucks',\n",
    "    \n",
    "))\n",
    "fig.update_traces(textposition='top center')\n",
    "fig.update_traces(showlegend=True)\n",
    "fig.update_layout(\n",
    "    autosize=True,\n",
    "    hovermode='closest',\n",
    "    mapbox=dict(\n",
    "        accesstoken=MAP_TOKEN,\n",
    "        bearing=0,\n",
    "        center=dict(\n",
    "            lat=techpoint['location']['lat'],\n",
    "            lon=techpoint['location']['lng']\n",
    "        ),\n",
    "        pitch=0,\n",
    "        zoom=10\n",
    "    ),\n",
    "    title_text = f\"Total Distance: {round(sum(dists)/1000,1)} Km\\n Total Distance: {round(sum(times)/60,1)} Min\"\n",
    ")\n",
    "\n",
    "\n",
    "fig.show()"
   ],
   "metadata": {
    "collapsed": false,
    "ExecuteTime": {
     "end_time": "2023-10-17T04:38:59.751393Z",
     "start_time": "2023-10-17T04:38:59.748015Z"
    }
   },
   "id": "fcfbb775fb152380"
  },
  {
   "cell_type": "code",
   "execution_count": 178,
   "outputs": [],
   "source": [],
   "metadata": {
    "collapsed": false,
    "ExecuteTime": {
     "end_time": "2023-10-17T04:38:59.757443Z",
     "start_time": "2023-10-17T04:38:59.751931Z"
    }
   },
   "id": "5bffb413f6b49e7"
  }
 ],
 "metadata": {
  "kernelspec": {
   "display_name": "Python 3",
   "language": "python",
   "name": "python3"
  },
  "language_info": {
   "codemirror_mode": {
    "name": "ipython",
    "version": 2
   },
   "file_extension": ".py",
   "mimetype": "text/x-python",
   "name": "python",
   "nbconvert_exporter": "python",
   "pygments_lexer": "ipython2",
   "version": "2.7.6"
  }
 },
 "nbformat": 4,
 "nbformat_minor": 5
}
